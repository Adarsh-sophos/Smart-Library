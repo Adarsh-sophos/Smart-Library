{
  "nbformat": 4,
  "nbformat_minor": 0,
  "metadata": {
    "colab": {
      "name": "Image Matching using Deep Learning.ipynb",
      "version": "0.3.2",
      "provenance": [],
      "collapsed_sections": []
    },
    "kernelspec": {
      "name": "python3",
      "display_name": "Python 3"
    },
    "accelerator": "GPU"
  },
  "cells": [
    {
      "metadata": {
        "id": "LGIUmW4-Mycc",
        "colab_type": "code",
        "colab": {}
      },
      "cell_type": "code",
      "source": [
        "import cv2\n",
        "import numpy as np\n",
        "import matplotlib.pyplot as plt"
      ],
      "execution_count": 0,
      "outputs": []
    },
    {
      "metadata": {
        "id": "arZvztBZERqI",
        "colab_type": "code",
        "outputId": "bd1dc918-d546-413c-ba60-2adaca4cf172",
        "colab": {
          "base_uri": "https://localhost:8080/",
          "height": 137
        }
      },
      "cell_type": "code",
      "source": [
        "from keras import applications\n",
        "model = applications.resnet50.ResNet50(weights='imagenet', include_top=False, pooling='avg')"
      ],
      "execution_count": 0,
      "outputs": [
        {
          "output_type": "stream",
          "text": [
            "Using TensorFlow backend.\n"
          ],
          "name": "stderr"
        },
        {
          "output_type": "stream",
          "text": [
            "WARNING:tensorflow:From /usr/local/lib/python3.6/dist-packages/tensorflow/python/framework/op_def_library.py:263: colocate_with (from tensorflow.python.framework.ops) is deprecated and will be removed in a future version.\n",
            "Instructions for updating:\n",
            "Colocations handled automatically by placer.\n",
            "Downloading data from https://github.com/fchollet/deep-learning-models/releases/download/v0.2/resnet50_weights_tf_dim_ordering_tf_kernels_notop.h5\n",
            "94658560/94653016 [==============================] - 5s 0us/step\n"
          ],
          "name": "stdout"
        }
      ]
    },
    {
      "metadata": {
        "id": "PXR5ii2dE9pm",
        "colab_type": "code",
        "colab": {}
      },
      "cell_type": "code",
      "source": [
        "from keras.preprocessing import image\n",
        "import numpy as np\n",
        "from keras.applications.resnet50 import preprocess_input\n",
        "\n",
        "\n",
        "# load image setting the image size to 224 x 224\n",
        "img = image.load_img(\"extracted_spines.jpg\", target_size=(800, 150))\n",
        "# convert image to numpy array\n",
        "x = image.img_to_array(img)\n",
        "# the image is now in an array of shape (3, 224, 224) \n",
        "# need to expand it to (1, 3, 224, 224) as it's expecting a list\n",
        "x = np.expand_dims(x, axis=0)\n",
        "x = preprocess_input(x)\n",
        "# extract the features\n",
        "features = model.predict(x)[0]\n",
        "# convert from Numpy to a list of values\n",
        "features_arr = np.char.mod('%f', features)"
      ],
      "execution_count": 0,
      "outputs": []
    },
    {
      "metadata": {
        "id": "DMcqzZQLFhVK",
        "colab_type": "code",
        "outputId": "b62b1b18-5f41-4745-cfd1-68ef7506d265",
        "colab": {
          "base_uri": "https://localhost:8080/",
          "height": 33
        }
      },
      "cell_type": "code",
      "source": [
        "print(features_arr)"
      ],
      "execution_count": 0,
      "outputs": [
        {
          "output_type": "stream",
          "text": [
            "['0.033239' '0.010164' '0.000000' ... '1.151492' '0.571630' '0.008439']\n"
          ],
          "name": "stdout"
        }
      ]
    },
    {
      "metadata": {
        "id": "kRuFacmeGChW",
        "colab_type": "code",
        "colab": {}
      },
      "cell_type": "code",
      "source": [
        "model.summary()"
      ],
      "execution_count": 0,
      "outputs": []
    },
    {
      "metadata": {
        "id": "QDG39H6UIBtI",
        "colab_type": "code",
        "colab": {}
      },
      "cell_type": "code",
      "source": [
        "mkdir images"
      ],
      "execution_count": 0,
      "outputs": []
    },
    {
      "metadata": {
        "id": "MyjVJorUHwZL",
        "colab_type": "code",
        "colab": {}
      },
      "cell_type": "code",
      "source": [
        "!git clone https://github.com/zegami/image-similarity-clustering\n",
        "%cd image-similarity-clustering"
      ],
      "execution_count": 0,
      "outputs": []
    },
    {
      "metadata": {
        "id": "b3AGX8rII7sM",
        "colab_type": "code",
        "colab": {}
      },
      "cell_type": "code",
      "source": [
        "!python extract.py ../temp.tsv"
      ],
      "execution_count": 0,
      "outputs": []
    },
    {
      "metadata": {
        "id": "Dcl9j_tcJGnG",
        "colab_type": "code",
        "colab": {}
      },
      "cell_type": "code",
      "source": [
        "!python tsne.py ../temp_features.tsv"
      ],
      "execution_count": 0,
      "outputs": []
    },
    {
      "metadata": {
        "id": "1qrUWoxEJoy5",
        "colab_type": "code",
        "colab": {}
      },
      "cell_type": "code",
      "source": [
        "import pandas\n",
        "# read the source file\n",
        "data = pandas.read_csv('../temp_features_tsne.tsv', sep='\\t')\n",
        "\n",
        "\n",
        "x = data['x']\n",
        "y = data['y']"
      ],
      "execution_count": 0,
      "outputs": []
    },
    {
      "metadata": {
        "id": "BB_yo_eKLInr",
        "colab_type": "code",
        "outputId": "e4c61302-b8d2-4cd4-b72b-0ec23648750d",
        "colab": {
          "base_uri": "https://localhost:8080/",
          "height": 364
        }
      },
      "cell_type": "code",
      "source": [
        "import matplotlib.pyplot as plt\n",
        "\n",
        "plt.scatter(x, y)"
      ],
      "execution_count": 0,
      "outputs": [
        {
          "output_type": "execute_result",
          "data": {
            "text/plain": [
              "<matplotlib.collections.PathCollection at 0x7f3a30427d68>"
            ]
          },
          "metadata": {
            "tags": []
          },
          "execution_count": 21
        },
        {
          "output_type": "display_data",
          "data": {
            "image/png": "[encoded data removed]",
            "text/plain": [
              "<Figure size 576x396 with 1 Axes>"
            ]
          },
          "metadata": {
            "tags": []
          }
        }
      ]
    },
    {
      "metadata": {
        "id": "yA-qcZRwz8h7",
        "colab_type": "code",
        "outputId": "7c362a50-7f14-4b66-b557-11ee9c9dd11b",
        "colab": {
          "base_uri": "https://localhost:8080/",
          "height": 33
        }
      },
      "cell_type": "code",
      "source": [
        "import csv\n",
        "import os\n",
        "\n",
        "from keras import applications\n",
        "from keras.applications.resnet50 import preprocess_input\n",
        "from keras.preprocessing import image\n",
        "import numpy as np\n",
        "import pandas"
      ],
      "execution_count": 0,
      "outputs": [
        {
          "output_type": "stream",
          "text": [
            "Using TensorFlow backend.\n"
          ],
          "name": "stderr"
        }
      ]
    },
    {
      "metadata": {
        "id": "um4ob99gvoYj",
        "colab_type": "code",
        "outputId": "3ce2a3af-e443-41db-a2ba-9dcb76e2a9c3",
        "colab": {
          "base_uri": "https://localhost:8080/",
          "height": 221
        }
      },
      "cell_type": "code",
      "source": [
        "#Xception_model = applications.xception.Xception(weights='imagenet', include_top=False, pooling='avg')\n",
        "\n",
        "VGG16_model = applications.vgg16.VGG16(weights='imagenet', include_top=False, pooling='avg')\n",
        "\n",
        "VGG19_model = applications.vgg19.VGG19(weights='imagenet', include_top=False, pooling='avg')\n",
        "\n",
        "InceptionV3_model = applications.inception_v3.InceptionV3(weights='imagenet', include_top=False, pooling='avg')\n",
        "\n",
        "#MobileNet_model = applications.mobilenet.MobileNet(weights='imagenet', include_top=False, pooling='avg')\n",
        "\n",
        "ResNet50_model = applications.resnet50.ResNet50(weights='imagenet', include_top=False, pooling='avg')\n",
        "\n",
        "models = {'VGG16_model' : VGG16_model,\n",
        "          'VGG19_model' : VGG19_model,\n",
        "          'InceptionV3_model' : InceptionV3_model,\n",
        "          'ResNet50_model' : ResNet50_model\n",
        "         }"
      ],
      "execution_count": 0,
      "outputs": [
        {
          "output_type": "stream",
          "text": [
            "WARNING:tensorflow:From /usr/local/lib/python3.6/dist-packages/tensorflow/python/framework/op_def_library.py:263: colocate_with (from tensorflow.python.framework.ops) is deprecated and will be removed in a future version.\n",
            "Instructions for updating:\n",
            "Colocations handled automatically by placer.\n",
            "Downloading data from https://github.com/fchollet/deep-learning-models/releases/download/v0.1/vgg16_weights_tf_dim_ordering_tf_kernels_notop.h5\n",
            "58892288/58889256 [==============================] - 3s 0us/step\n",
            "Downloading data from https://github.com/fchollet/deep-learning-models/releases/download/v0.1/vgg19_weights_tf_dim_ordering_tf_kernels_notop.h5\n",
            "80142336/80134624 [==============================] - 3s 0us/step\n",
            "Downloading data from https://github.com/fchollet/deep-learning-models/releases/download/v0.5/inception_v3_weights_tf_dim_ordering_tf_kernels_notop.h5\n",
            "87916544/87910968 [==============================] - 4s 0us/step\n",
            "Downloading data from https://github.com/fchollet/deep-learning-models/releases/download/v0.2/resnet50_weights_tf_dim_ordering_tf_kernels_notop.h5\n",
            "94658560/94653016 [==============================] - 7s 0us/step\n"
          ],
          "name": "stdout"
        }
      ]
    },
    {
      "metadata": {
        "id": "VeSF1xGXoNvU",
        "colab_type": "code",
        "outputId": "a2950385-1aa3-45ca-891b-a1739b48b344",
        "colab": {
          "base_uri": "https://localhost:8080/",
          "height": 237
        }
      },
      "cell_type": "code",
      "source": [
        "source = \"image_name.tsv\"\n",
        "source_dir = os.path.dirname(source)\n",
        "\n",
        "\n",
        "def get_feature(metadata, model_name):\n",
        "    print(metadata['id'], end = \" \")\n",
        "    \n",
        "    model = models[model_name]\n",
        "        \n",
        "    img_path = os.path.join(source_dir, 'images', metadata['image'])\n",
        "    \n",
        "    #print(img_path)\n",
        "    #print('is file: {}'.format(img_path))\n",
        "    \n",
        "    img = image.load_img(img_path, target_size=(800, 150))\n",
        "    x = image.img_to_array(img)\n",
        "    \n",
        "    # the image is now in an array of shape (3, 224, 224)\n",
        "    # but we need to expand it to (1, 2, 224, 224) as Keras is expecting a list of images\n",
        "    x = np.expand_dims(x, axis=0)\n",
        "    x = preprocess_input(x)\n",
        "\n",
        "    features = model.predict(x)[0]\n",
        "\n",
        "    features_arr = np.char.mod('%f', features)\n",
        "    \n",
        "    if(metadata['id'] == '1'):\n",
        "        print(features_arr.shape)\n",
        "    \n",
        "    return {\"id\": metadata['id'], \"features\": ','.join(features_arr)}\n",
        "\n",
        "\n",
        "def start():\n",
        "    # read the source file\n",
        "    data = pandas.read_csv(source, sep='\\t')\n",
        "    \n",
        "    images = data.T.to_dict().values()\n",
        "    \n",
        "    model_names = [\"VGG16_model\", \"VGG19_model\", \"InceptionV3_model\", \"ResNet50_model\"]\n",
        "    \n",
        "    for model_name in model_names:\n",
        "        \n",
        "        print(\"Using model:\", model_name)\n",
        "        features = []\n",
        "        \n",
        "        for image in images:\n",
        "            features.append(get_feature(image, model_name))\n",
        "        \n",
        "        print(\"\\n\")\n",
        "        \n",
        "        # remove empty entries\n",
        "        features = filter(None, features)\n",
        "\n",
        "        # write to a tab delimited file\n",
        "        source_filename = os.path.splitext(source)[0].split(os.sep)[-1]\n",
        "\n",
        "        with open(os.path.join(source_dir, '{}_features.tsv'.format(model_name)), 'w') as output:\n",
        "            w = csv.DictWriter(output, fieldnames=['id', 'features'], delimiter='\\t', lineterminator='\\n')\n",
        "            w.writeheader()\n",
        "            w.writerows(features)\n",
        "\n",
        "\n",
        "if __name__ == '__main__':\n",
        "    start()"
      ],
      "execution_count": 0,
      "outputs": [
        {
          "output_type": "stream",
          "text": [
            "Using model: VGG16_model\n",
            "1 2 3 4 5 6 7 8 9 10 11 12 13 14 15 16 17 18 19 20 21 22 23 24 25 26 27 28 29 30 31 32 33 34 35 36 37 38 39 40 41 42 43 44 45 46 47 48 49 50 51 52 53 54 55 56 57 58 59 60 61 62 63 64 65 66 67 68 69 70 71 72 73 74 75 76 77 78 79 80 81 82 83 84 85 86 87 88 89 90 91 92 93 94 95 96 97 98 99 100 101 102 103 104 105 106 \n",
            "\n",
            "Using model: VGG19_model\n",
            "1 2 3 4 5 6 7 8 9 10 11 12 13 14 15 16 17 18 19 20 21 22 23 24 25 26 27 28 29 30 31 32 33 34 35 36 37 38 39 40 41 42 43 44 45 46 47 48 49 50 51 52 53 54 55 56 57 58 59 60 61 62 63 64 65 66 67 68 69 70 71 72 73 74 75 76 77 78 79 80 81 82 83 84 85 86 87 88 89 90 91 92 93 94 95 96 97 98 99 100 101 102 103 104 105 106 \n",
            "\n",
            "Using model: InceptionV3_model\n",
            "1 2 3 4 5 6 7 8 9 10 11 12 13 14 15 16 17 18 19 20 21 22 23 24 25 26 27 28 29 30 31 32 33 34 35 36 37 38 39 40 41 42 43 44 45 46 47 48 49 50 51 52 53 54 55 56 57 58 59 60 61 62 63 64 65 66 67 68 69 70 71 72 73 74 75 76 77 78 79 80 81 82 83 84 85 86 87 88 89 90 91 92 93 94 95 96 97 98 99 100 101 102 103 104 105 106 \n",
            "\n",
            "Using model: ResNet50_model\n",
            "1 2 3 4 5 6 7 8 9 10 11 12 13 14 15 16 17 18 19 20 21 22 23 24 25 26 27 28 29 30 31 32 33 34 35 36 37 38 39 40 41 42 43 44 45 46 47 48 49 50 51 52 53 54 55 56 57 58 59 60 61 62 63 64 65 66 67 68 69 70 71 72 73 74 75 76 77 78 79 80 81 82 83 84 85 86 87 88 89 90 91 92 93 94 95 96 97 98 99 100 101 102 103 104 105 106 \n",
            "\n"
          ],
          "name": "stdout"
        }
      ]
    },
    {
      "metadata": {
        "id": "ZVf_Qkcboyod",
        "colab_type": "code",
        "colab": {}
      },
      "cell_type": "code",
      "source": [
        "fp = open(\"image_name.tsv\", \"w\")\n",
        "\n",
        "fp.write(\"id\\timage\\n\")\n",
        "\n",
        "for i in range(1, 107):\n",
        "    fp.write(str(i) + \"\\t\" + \"SP\" + str(i) + \".jpg\\n\")\n",
        "\n",
        "fp.close()"
      ],
      "execution_count": 0,
      "outputs": []
    },
    {
      "metadata": {
        "id": "ZAmMECJPsYj_",
        "colab_type": "code",
        "colab": {}
      },
      "cell_type": "code",
      "source": [
        "!cat image_name.tsv"
      ],
      "execution_count": 0,
      "outputs": []
    },
    {
      "metadata": {
        "id": "OUNCxpDh1mK6",
        "colab_type": "code",
        "colab": {}
      },
      "cell_type": "code",
      "source": [
        "import csv\n",
        "import os\n",
        "import sys\n",
        "\n",
        "import numpy\n",
        "import pandas\n",
        "from sklearn import (\n",
        "    decomposition,\n",
        "    manifold,\n",
        "    pipeline,\n",
        ")\n",
        "\n",
        "\n",
        "def named_model(name):\n",
        "    if name == 'TSNE':\n",
        "        return manifold.TSNE(random_state=0)\n",
        "    if name == 'PCA-TSNE':\n",
        "        tsne = manifold.TSNE(\n",
        "            random_state=0, perplexity=50, early_exaggeration=6.0)\n",
        "        pca = decomposition.PCA(n_components=48)\n",
        "        return pipeline.Pipeline([('reduce_dims', pca), ('tsne', tsne)])\n",
        "    if name == 'PCA':\n",
        "        return decomposition.PCA(n_components=48)\n",
        "    raise ValueError('Unknown model')\n",
        "\n",
        "\n",
        "def process(data, model):\n",
        "    # split the comma delimited string back into a list of values\n",
        "    transformed = [d.split(',') for d in data['features']]\n",
        "\n",
        "    # convert image data to float64 matrix. float64 is need for bh_sne\n",
        "    x_data = numpy.asarray(transformed).astype('float64')\n",
        "    x_data = x_data.reshape((x_data.shape[0], -1))\n",
        "\n",
        "    # perform t-SNE\n",
        "    vis_data = model.fit_transform(x_data)\n",
        "\n",
        "    # convert the results into a list of dict\n",
        "    results = []\n",
        "    for i in range(0, len(data)):\n",
        "        results.append({\n",
        "            'id': data['id'][i],\n",
        "            'x': vis_data[i][0],\n",
        "            'y': vis_data[i][1]\n",
        "        })\n",
        "    return results\n",
        "\n",
        "\n",
        "def write_tsv(results, output_tsv):\n",
        "    # write to a tab delimited file\n",
        "    with open(output_tsv, 'w') as output:\n",
        "        w = csv.DictWriter(\n",
        "            output, fieldnames=['id', 'x', 'y'], delimiter='\\t',\n",
        "            lineterminator='\\n')\n",
        "        w.writeheader()\n",
        "        w.writerows(results)\n",
        "\n",
        "\n",
        "def main():\n",
        "    \n",
        "    feature_files = [\"InceptionV3_model_features.tsv\",\n",
        "                     \"ResNet50_model_features.tsv\",\n",
        "                     \"VGG16_model_features.tsv\",\n",
        "                     \"VGG19_model_features.tsv\"]\n",
        "    \n",
        "    model = named_model(\"TSNE\")\n",
        "    \n",
        "    for feature_file in feature_files:\n",
        "        # read in the data file\n",
        "        data = pandas.read_csv(feature_file, sep='\\t')\n",
        "        #print(data.shape)\n",
        "        \n",
        "        results = process(data, model)\n",
        "\n",
        "        destination_dir = os.path.dirname(feature_file)\n",
        "        #print(destination_dir)\n",
        "        \n",
        "        source_filename = os.path.splitext(feature_file)[0].split(os.sep)[-1]\n",
        "        #print(source_filename)\n",
        "        \n",
        "        tsv_name = os.path.join(destination_dir, '{}_tsne.tsv'.format(source_filename))\n",
        "        #print(tsv_name)\n",
        "\n",
        "        write_tsv(results, tsv_name)\n",
        "\n",
        "\n",
        "if __name__ == '__main__':\n",
        "    main()"
      ],
      "execution_count": 0,
      "outputs": []
    },
    {
      "metadata": {
        "id": "IxatGdaTbNE2",
        "colab_type": "code",
        "outputId": "e883eef8-35c5-466d-cb65-18a4214cfaa7",
        "colab": {
          "base_uri": "https://localhost:8080/",
          "height": 497
        }
      },
      "cell_type": "code",
      "source": [
        "%matplotlib inline\n",
        "\n",
        "InceptionV3 = pandas.read_csv(\"InceptionV3_model_features_tsne.tsv\", sep = \"\\t\")\n",
        "\n",
        "ResNet50 = pandas.read_csv(\"ResNet50_model_features_tsne.tsv\", sep = \"\\t\")\n",
        "\n",
        "VGG16 = pandas.read_csv(\"VGG16_model_features_tsne.tsv\", sep = \"\\t\")\n",
        "\n",
        "VGG19 = pandas.read_csv(\"VGG19_model_features_tsne.tsv\", sep = \"\\t\")\n",
        "\n",
        "fig, ax = plt.subplots(2, 2, figsize=(8,8))\n",
        "\n",
        "#plt.subplot(2, 2, 1)\n",
        "ax[0, 0].scatter(InceptionV3['x'], InceptionV3['y'])\n",
        "ax[0, 0].set_title(\"InceptionV3\")\n",
        "#plt.show()\n",
        "\n",
        "#plt.subplot(2, 2, 1)\n",
        "ax[0, 1].scatter(ResNet50['x'], ResNet50['y'])\n",
        "ax[0, 1].set_title(\"ResNet50\")\n",
        "#plt.show()\n",
        "\n",
        "#plt.subplot(2, 2, 1)\n",
        "ax[1, 0].scatter(VGG16['x'], VGG16['y'])\n",
        "ax[1, 0].set_title(\"VGG16\")\n",
        "#plt.show()\n",
        "\n",
        "#plt.subplot(2, 2, 1)\n",
        "ax[1, 1].scatter(VGG19['x'], VGG19['y'])\n",
        "ax[1, 1].set_title(\"VGG19\")\n",
        "plt.show()\n",
        "\n",
        "fig.savefig(\"image_similarity_plot.jpg\")"
      ],
      "execution_count": 0,
      "outputs": [
        {
          "output_type": "display_data",
          "data": {
            "image/png": "[encoded data removed]",
            "text/plain": [
              "<Figure size 576x576 with 4 Axes>"
            ]
          },
          "metadata": {
            "tags": []
          }
        }
      ]
    },
    {
      "metadata": {
        "id": "wGN2aOYzyajt",
        "colab_type": "code",
        "outputId": "4c9b242c-e5c2-4026-ccd8-7081b7da4cc2",
        "colab": {
          "base_uri": "https://localhost:8080/",
          "height": 50
        }
      },
      "cell_type": "code",
      "source": [
        "data = pandas.read_csv(\"ResNet50_model_features.tsv\", sep = \"\\t\")\n",
        "\n",
        "\n",
        "transformed = [d.split(',') for d in data['features']]\n",
        "\n",
        "# convert image data to float64 matrix. float64 is need for bh_sne\n",
        "x_data = numpy.asarray(transformed).astype('float32')\n",
        "print(x_data.shape)\n",
        "\n",
        "trained = x_data.reshape((x_data.shape[0], -1))\n",
        "print(x_data.shape)"
      ],
      "execution_count": 0,
      "outputs": [
        {
          "output_type": "stream",
          "text": [
            "(106, 2048)\n",
            "(106, 2048)\n"
          ],
          "name": "stdout"
        }
      ]
    },
    {
      "metadata": {
        "id": "O4p_PgcnzvuI",
        "colab_type": "code",
        "outputId": "94850b9c-7d61-4fdc-bf8a-81402877fcdf",
        "colab": {
          "base_uri": "https://localhost:8080/",
          "height": 184
        }
      },
      "cell_type": "code",
      "source": [
        "test_files = os.listdir(\"testing/\")\n",
        "#print(test_files)\n",
        "\n",
        "model = models[\"ResNet50_model\"]\n",
        "\n",
        "\n",
        "for test in test_files:\n",
        "        \n",
        "    img_path = os.path.join('testing', test)\n",
        "    \n",
        "    #print(img_path)\n",
        "    #print('is file: {}'.format(img_path))\n",
        "    \n",
        "    img = image.load_img(img_path, target_size=(800, 150))\n",
        "    x = image.img_to_array(img)\n",
        "    \n",
        "    # the image is now in an array of shape (3, 224, 224)\n",
        "    # but we need to expand it to (1, 2, 224, 224) as Keras is expecting a list of images\n",
        "    x = np.expand_dims(x, axis=0)\n",
        "    x = preprocess_input(x)\n",
        "\n",
        "    features = model.predict(x)[0]\n",
        "\n",
        "    features_arr = np.char.mod('%f', features)\n",
        "    \n",
        "    features_arr = numpy.asarray(features_arr).astype('float32')\n",
        "    \n",
        "    #print(features_arr)\n",
        "    #print(trained)\n",
        "    \n",
        "    distances = np.sum((features_arr - trained) ** 2, axis = 1)\n",
        "    min_index = np.argmin(distances)\n",
        "    max_index = np.argmax(distances)\n",
        "    \n",
        "    print(test, min_index, distances[min_index], distances[max_index])"
      ],
      "execution_count": 0,
      "outputs": [
        {
          "output_type": "stream",
          "text": [
            "spine7.jpg 61 194.8223 1206.9382\n",
            "spine8.jpg 62 225.15079 960.17303\n",
            "spine9.jpg 63 258.24005 1221.5297\n",
            "spine2.jpg 55 249.37685 1171.3505\n",
            "spine3.jpg 57 262.68463 1128.9597\n",
            "spine0.jpg 54 277.59705 1118.1105\n",
            "spine4.jpg 58 280.1023 1250.0703\n",
            "spine5.jpg 59 262.77435 1070.6239\n",
            "spine1.jpg 56 329.64542 1315.5269\n",
            "spine6.jpg 60 287.44562 1030.3142\n"
          ],
          "name": "stdout"
        }
      ]
    }
  ]
}